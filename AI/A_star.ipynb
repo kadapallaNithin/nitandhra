{
  "nbformat": 4,
  "nbformat_minor": 0,
  "metadata": {
    "kernelspec": {
      "display_name": "Python 3",
      "language": "python",
      "name": "python3"
    },
    "language_info": {
      "codemirror_mode": {
        "name": "ipython",
        "version": 3
      },
      "file_extension": ".py",
      "mimetype": "text/x-python",
      "name": "python",
      "nbconvert_exporter": "python",
      "pygments_lexer": "ipython3",
      "version": "3.7.4"
    },
    "colab": {
      "name": "Untitled.ipynb",
      "provenance": [],
      "toc_visible": true,
      "include_colab_link": true
    }
  },
  "cells": [
    {
      "cell_type": "markdown",
      "metadata": {
        "id": "view-in-github",
        "colab_type": "text"
      },
      "source": [
        "<a href=\"https://colab.research.google.com/github/kadapallaNithin/nitandhra/blob/master/AI/A_star.ipynb\" target=\"_parent\"><img src=\"https://colab.research.google.com/assets/colab-badge.svg\" alt=\"Open In Colab\"/></a>"
      ]
    },
    {
      "cell_type": "markdown",
      "metadata": {
        "id": "kjKs98ha-23R",
        "colab_type": "text"
      },
      "source": [
        "8 puzzle problem :"
      ]
    },
    {
      "cell_type": "code",
      "metadata": {
        "id": "1K2JVI9G-23b",
        "colab_type": "code",
        "colab": {}
      },
      "source": [
        "import numpy as np"
      ],
      "execution_count": 0,
      "outputs": []
    },
    {
      "cell_type": "code",
      "metadata": {
        "id": "dBUf6Egw-24D",
        "colab_type": "code",
        "colab": {},
        "outputId": "2cbe8887-4eb8-4394-adec-42d5afd32842"
      },
      "source": [
        "class State:\n",
        "    def __init__(self,board):\n",
        "        self.board = board\n",
        "        self.blank = board.index(0)\n",
        "        self.dim = int(board**(0.5))\n",
        "    def at(self):\n",
        "        return (int(self.blank/self.dim),int(self.blank%self.dim))\n",
        "    def left(self):\n",
        "        i,j = self.at()\n",
        "        if i != 0:\n",
        "            return self.board[(i-1)*self.dim+j]\n",
        "        return False\n",
        "    def right(self):\n",
        "        i,j = self.at()\n",
        "        if i != self.dim - 1:\n",
        "            return self.board[(i+1)*self.dim+j]\n",
        "        return False\n",
        "    def up(self):\n",
        "        i,j = self.at()\n",
        "        if j != 0:\n",
        "            return self.board[i*self.dim+j-1]\n",
        "        return False\n",
        "    def down(self):\n",
        "        i,j = self.at()\n",
        "        if j != self.dim -1:\n",
        "            return self.board[i*self.dim+j+1]\n",
        "    def move(self):\n",
        "        \n",
        "            \n",
        "        \n",
        "s = State(np.random.shuffle(np.arange(0,10,1)))"
      ],
      "execution_count": 0,
      "outputs": [
        {
          "output_type": "error",
          "ename": "IndentationError",
          "evalue": "expected an indented block (<ipython-input-2-918864c09a2c>, line 31)",
          "traceback": [
            "\u001b[0;36m  File \u001b[0;32m\"<ipython-input-2-918864c09a2c>\"\u001b[0;36m, line \u001b[0;32m31\u001b[0m\n\u001b[0;31m    s = State(np.random.shuffle(np.arange(0,10,1)))\u001b[0m\n\u001b[0m                                                   ^\u001b[0m\n\u001b[0;31mIndentationError\u001b[0m\u001b[0;31m:\u001b[0m expected an indented block\n"
          ]
        }
      ]
    },
    {
      "cell_type": "code",
      "metadata": {
        "id": "NDfOsl1F-24Y",
        "colab_type": "code",
        "colab": {},
        "outputId": "0aa5a1d9-0fa9-405e-81bd-61c3f4bf9686"
      },
      "source": [
        "class GrowingTree:\n",
        "    'n-ary tree to store strings without redundant prefixes'\n",
        "    def __init__(self,value,depth=0):\n",
        "        self.value = value\n",
        "        self.children = list()\n",
        "        self.depth = depth\n",
        "        self.freq = 1\n",
        "    def append(self,child):\n",
        "        self.children.append(child)\n",
        "    def traverse(self):\n",
        "        'traverse depth first and print value,freq,depth of each node on visit'\n",
        "        print(self.value,self.freq,self.depth)\n",
        "        for child in self.children:\n",
        "            child.traverse()\n",
        "    def insert(self,s):\n",
        "        's : string to insert into tree'\n",
        "        if len(s) > 0:\n",
        "            if s[0] == self.value:\n",
        "                \n",
        "            li = [x.value for x in self.children]\n",
        "            if s[0] in li:\n",
        "                if len(s) > 1:\n",
        "                    self.children[li.index(s[0])].insert(s[1:])\n",
        "            else:\n",
        "                self.append(GrowingTree(s[0]))\n",
        "                self.children[-1].insert(s[1:])\n",
        "t = GrowingTree('i')"
      ],
      "execution_count": 0,
      "outputs": [
        {
          "output_type": "error",
          "ename": "IndentationError",
          "evalue": "expected an indented block (<ipython-input-3-b0a779b9014e>, line 20)",
          "traceback": [
            "\u001b[0;36m  File \u001b[0;32m\"<ipython-input-3-b0a779b9014e>\"\u001b[0;36m, line \u001b[0;32m20\u001b[0m\n\u001b[0;31m    li = [x.value for x in self.children]\u001b[0m\n\u001b[0m     ^\u001b[0m\n\u001b[0;31mIndentationError\u001b[0m\u001b[0;31m:\u001b[0m expected an indented block\n"
          ]
        }
      ]
    },
    {
      "cell_type": "code",
      "metadata": {
        "id": "CtVjpMAM-24s",
        "colab_type": "code",
        "colab": {}
      },
      "source": [
        "class GrowingTree:\n",
        "    'n-ary tree to store strings without redundant prefixes'\n",
        "    def __init__(self,value,depth=0):\n",
        "        self.children = dict()\n",
        "        self.depth = depth\n",
        "    def add(self,value):\n",
        "        if value in self.children:\n",
        "            self.children[value][1] += 1\n",
        "        else:\n",
        "            self.children[value] = [GrowingTree(value,self.depth+1),1]\n",
        "    def traverse(self):\n",
        "        'traverse depth first and print (depth,children,thier freq) of each node on visit'\n",
        "        print(self.depth,[(k,self.children[k][1]) for k in self.children])\n",
        "        for child in self.children:\n",
        "            self.children[child][0].traverse()\n",
        "    def insert(self,s):\n",
        "        's : str or list to insert into tree'\n",
        "        if len(s) > 0:\n",
        "            self.add(s[0])\n",
        "            self.children[s[0]][0].insert(s[1:])\n",
        "'''            if s[0] in li:\n",
        "                if len(s) > 1:\n",
        "                    self.children[li.index(s[0])].insert(s[1:])\n",
        "            else:\n",
        "                self.append(GrowingTree(s[0]))\n",
        "                self.children[-1].insert(s[1:])'''\n",
        "t = GrowingTree('i')"
      ],
      "execution_count": 0,
      "outputs": []
    },
    {
      "cell_type": "code",
      "metadata": {
        "id": "OGUpF2V9-248",
        "colab_type": "code",
        "colab": {},
        "outputId": "a1d8e467-fb42-406d-97ed-5eb623b701a8"
      },
      "source": [
        "#t.traverse()\n",
        "t.insert('not')\n",
        "t.traverse()"
      ],
      "execution_count": 0,
      "outputs": [
        {
          "output_type": "stream",
          "text": [
            "0 [('k', 2), ('.', 2), ('n', 3)]\n",
            "1 [('.', 2)]\n",
            "2 [(' ', 2)]\n",
            "3 [('n', 2)]\n",
            "4 [('i', 2)]\n",
            "5 [('t', 2)]\n",
            "6 [('h', 2)]\n",
            "7 [('i', 2)]\n",
            "8 [('n', 2)]\n",
            "9 []\n",
            "1 [(' ', 2)]\n",
            "2 [('n', 2)]\n",
            "3 [('i', 2)]\n",
            "4 [('t', 2)]\n",
            "5 [('h', 2)]\n",
            "6 [('i', 2)]\n",
            "7 [('n', 2)]\n",
            "8 []\n",
            "1 [('i', 2), ('o', 1)]\n",
            "2 [('t', 2)]\n",
            "3 [('h', 1)]\n",
            "4 [('i', 1)]\n",
            "5 [('n', 1)]\n",
            "6 []\n",
            "2 [('t', 1)]\n",
            "3 []\n"
          ],
          "name": "stdout"
        }
      ]
    },
    {
      "cell_type": "code",
      "metadata": {
        "id": "kDxMqaga-25M",
        "colab_type": "code",
        "colab": {},
        "outputId": "3ddae2bf-acdb-4a61-e9da-0d897eea277d"
      },
      "source": [
        "def solvable(li):\n",
        "    n = 0\n",
        "    for i in range(len(li)):\n",
        "        j = i + 1\n",
        "        while j < len(li) - 1:\n",
        "            if li[i] > li[j] and li[i] != 0 and li[j] != 0:\n",
        "                n += 1\n",
        "            j += 1\n",
        "    return n%2 == 0\n",
        "class Puzzle:\n",
        "    def __init__(self,board=None,m=3,n=None,one=True):\n",
        "        if board == None:\n",
        "            self.m = m\n",
        "            if(n == None):\n",
        "                self.n = self.m\n",
        "            else:\n",
        "                self.n = n\n",
        "            b = list(np.arange(0,self.m*self.n,1))\n",
        "            np.random.shuffle(b)\n",
        "            while not solvable(b):\n",
        "                np.random.shuffle(b)\n",
        "            blank = b.index(0)\n",
        "            self.i = blank//self.m\n",
        "            self.j = blank%self.m\n",
        "            self.board = [b[row*self.n:(row+1)*self.n] for row in range(self.m)]\n",
        "        elif one:\n",
        "            self.m = m\n",
        "            # ...\n",
        "    def move(self,i=None,j=None,di=4):\n",
        "        '''di = :\n",
        "                (x+1)*3 + y+1\n",
        "                no_move=4 (0+1)*3  + 0+1\n",
        "                left  = 3 (0+1)*3  + -1+1\n",
        "                right = 5 (0+1)*3  + 1+1\n",
        "                up    = 1 (-1+1)*3 + 0+1\n",
        "                down  = 7 (1+1)*3  + 0+1\n",
        "         assuming only valid input is given, di - direction : di == (t1t0)base3 i.e x = t1 y = t0 x hori y verti'''\n",
        "        #if di in [1,3,5,7]:\n",
        "\n",
        "        if i == None:\n",
        "            i = self.i + (di//3) - 1\n",
        "            j = self.j + (di%3) - 1\n",
        "        else:\n",
        "            i = self.i + i\n",
        "            j = self.j + j\n",
        "#            di = (i+1)*3 + j+1\n",
        "        \n",
        "        if  i < self.m and i >= 0 and j < self.n and j >= 0:\n",
        "            self.board[self.i][self.j] = self.board[i][j]\n",
        "            self.board[i][j] = 0\n",
        "            self.i = i\n",
        "            self.j = j\n",
        "            return True\n",
        "        else:\n",
        "            return False\n",
        "    def wrong_n(self):\n",
        "        n = 0\n",
        "        for i in range(self.m):#len(self.board)):\n",
        "            for j in range(self.n):\n",
        "                if i*self.m + j + 1 != self.board[i][j]:\n",
        "                    n += 1\n",
        "        return n\n",
        "    def min_wrongs_move(self,h=None):\n",
        "        if h == None:\n",
        "            h = self.wrong_n()\n",
        "        li = list()\n",
        "        for _ in [0]:\n",
        "            if self.move(1,0):\n",
        "                nh = self.wrong_n()\n",
        "                li.append([nh - h,(1,0)])\n",
        "                self.move(-1,0)\n",
        "            if self.move(-1,0):\n",
        "                nh = self.wrong_n()\n",
        "                li.append([nh - h,(-1,0)])\n",
        "                self.move(1,0)\n",
        "            if self.move(0,1):\n",
        "                nh = self.wrong_n()\n",
        "                li.append([nh - h,(0,1)])\n",
        "                self.move(0,-1)\n",
        "\n",
        "            if self.move(0,-1):\n",
        "                nh = self.wrong_n()\n",
        "                li.append([nh - h,(0,-1)])\n",
        "                self.move(0,1)\n",
        "            else:\n",
        "                print(self.i,self.j)\n",
        "            print(li)\n",
        "            return min(li,key=lambda x:x[0])\n",
        "            \n",
        "    def print(self):\n",
        "        for row in self.board:\n",
        "            print(row)\n",
        "        print()\n",
        "\n",
        "p = Puzzle()\n",
        "len(p.board)"
      ],
      "execution_count": 0,
      "outputs": [
        {
          "output_type": "execute_result",
          "data": {
            "text/plain": [
              "3"
            ]
          },
          "metadata": {
            "tags": []
          },
          "execution_count": 70
        }
      ]
    },
    {
      "cell_type": "code",
      "metadata": {
        "id": "iW2jItPv-25Y",
        "colab_type": "code",
        "colab": {},
        "outputId": "402e0d13-d1ae-49c7-9427-2d27b36bbdc1"
      },
      "source": [
        "\n",
        "p.print()\n",
        "#p.move(di=3)# 7 down 3 left 1 up 5 right\n",
        "i,j = p.min_wrongs_move()[1]\n",
        "p.move(i,j)\n",
        "p.print()\n",
        "#p.wrong_n()"
      ],
      "execution_count": 0,
      "outputs": [
        {
          "output_type": "stream",
          "text": [
            "[5, 1, 4]\n",
            "[7, 0, 8]\n",
            "[2, 3, 6]\n",
            "\n",
            "[[0, (1, 0)], [0, (-1, 0)], [0, (0, 1)], [0, (0, -1)]]\n",
            "[5, 1, 4]\n",
            "[7, 3, 8]\n",
            "[2, 0, 6]\n",
            "\n"
          ],
          "name": "stdout"
        }
      ]
    },
    {
      "cell_type": "code",
      "metadata": {
        "id": "imz9vGeu-25k",
        "colab_type": "code",
        "colab": {}
      },
      "source": [
        "def A_star():\n",
        "    s = State()\n",
        "    "
      ],
      "execution_count": 0,
      "outputs": []
    },
    {
      "cell_type": "code",
      "metadata": {
        "id": "p3foKQNB-25x",
        "colab_type": "code",
        "colab": {},
        "outputId": "f4461220-11c7-4745-dcfd-11fe33a9ca44"
      },
      "source": [
        "b = np.arange(0,10,1)\n",
        "b"
      ],
      "execution_count": 0,
      "outputs": [
        {
          "output_type": "execute_result",
          "data": {
            "text/plain": [
              "array([0, 1, 2, 3, 4, 5, 6, 7, 8, 9])"
            ]
          },
          "metadata": {
            "tags": []
          },
          "execution_count": 62
        }
      ]
    },
    {
      "cell_type": "code",
      "metadata": {
        "id": "vHKShtMv-25-",
        "colab_type": "code",
        "colab": {},
        "outputId": "0d72e244-ba29-4d9a-911e-3b18dba66888"
      },
      "source": [
        "np.random.shuffle(b)\n",
        "b"
      ],
      "execution_count": 0,
      "outputs": [
        {
          "output_type": "execute_result",
          "data": {
            "text/plain": [
              "array([2, 9, 8, 3, 6, 5, 1, 7, 0, 4])"
            ]
          },
          "metadata": {
            "tags": []
          },
          "execution_count": 8
        }
      ]
    },
    {
      "cell_type": "code",
      "metadata": {
        "id": "5fRWhpQj-26Q",
        "colab_type": "code",
        "colab": {},
        "outputId": "c45d8089-68fe-4abb-b0ad-eae36a1aa83a"
      },
      "source": [
        "for di in range(9):\n",
        "    i = (di//3) - 1\n",
        "    j = (di%3) - 1\n",
        "    print(di,\" \",i,j)  "
      ],
      "execution_count": 0,
      "outputs": [
        {
          "output_type": "stream",
          "text": [
            "0   -1 -1\n",
            "1   -1 0\n",
            "2   -1 1\n",
            "3   0 -1\n",
            "4   0 0\n",
            "5   0 1\n",
            "6   1 -1\n",
            "7   1 0\n",
            "8   1 1\n"
          ],
          "name": "stdout"
        }
      ]
    },
    {
      "cell_type": "code",
      "metadata": {
        "id": "iR1YaeI2-26e",
        "colab_type": "code",
        "colab": {},
        "outputId": "777fa12e-3276-4a11-e9e1-b7abbb8370c5"
      },
      "source": [
        "li = [[1,2,4],[3,35,3],[9,8,3]]\n",
        "print(li)\n",
        "for row in li:\n",
        "    for i in range(len(row)):\n",
        "        row[i] = 0 #changes list\n",
        "    l = li\n",
        "    for tile in row:\n",
        "        tile = 9 #doesn't change list\n",
        "    lis = li\n",
        "l,li,lis"
      ],
      "execution_count": 0,
      "outputs": [
        {
          "output_type": "stream",
          "text": [
            "[[1, 2, 4], [3, 35, 3], [9, 8, 3]]\n"
          ],
          "name": "stdout"
        },
        {
          "output_type": "execute_result",
          "data": {
            "text/plain": [
              "([[0, 0, 0], [0, 0, 0], [0, 0, 0]],\n",
              " [[0, 0, 0], [0, 0, 0], [0, 0, 0]],\n",
              " [[0, 0, 0], [0, 0, 0], [0, 0, 0]])"
            ]
          },
          "metadata": {
            "tags": []
          },
          "execution_count": 26
        }
      ]
    },
    {
      "cell_type": "code",
      "metadata": {
        "id": "07Uv_lsw-26r",
        "colab_type": "code",
        "colab": {},
        "outputId": "236a6d68-4f39-400a-bda7-2f7da02e654c"
      },
      "source": [
        "float('inf'),float('nan')"
      ],
      "execution_count": 0,
      "outputs": [
        {
          "output_type": "execute_result",
          "data": {
            "text/plain": [
              "(inf, nan)"
            ]
          },
          "metadata": {
            "tags": []
          },
          "execution_count": 51
        }
      ]
    },
    {
      "cell_type": "code",
      "metadata": {
        "id": "hrkI79OW-261",
        "colab_type": "code",
        "colab": {},
        "outputId": "7000a597-4f2e-42be-ff0b-fa304b5eb18e"
      },
      "source": [
        "li = [[1,'nithin'],[2,'kumar'],[-3,'kadapalla']]\n",
        "#print([x lambda for x in li x[0]])\n",
        "min(li,key=0)"
      ],
      "execution_count": 0,
      "outputs": [
        {
          "output_type": "error",
          "ename": "TypeError",
          "evalue": "'int' object is not callable",
          "traceback": [
            "\u001b[0;31m---------------------------------------------------------------------------\u001b[0m",
            "\u001b[0;31mTypeError\u001b[0m                                 Traceback (most recent call last)",
            "\u001b[0;32m<ipython-input-53-ee5fa45fabcc>\u001b[0m in \u001b[0;36m<module>\u001b[0;34m\u001b[0m\n\u001b[1;32m      1\u001b[0m \u001b[0mli\u001b[0m \u001b[0;34m=\u001b[0m \u001b[0;34m[\u001b[0m\u001b[0;34m[\u001b[0m\u001b[0;36m1\u001b[0m\u001b[0;34m,\u001b[0m\u001b[0;34m'nithin'\u001b[0m\u001b[0;34m]\u001b[0m\u001b[0;34m,\u001b[0m\u001b[0;34m[\u001b[0m\u001b[0;36m2\u001b[0m\u001b[0;34m,\u001b[0m\u001b[0;34m'kumar'\u001b[0m\u001b[0;34m]\u001b[0m\u001b[0;34m,\u001b[0m\u001b[0;34m[\u001b[0m\u001b[0;34m-\u001b[0m\u001b[0;36m3\u001b[0m\u001b[0;34m,\u001b[0m\u001b[0;34m'kadapalla'\u001b[0m\u001b[0;34m]\u001b[0m\u001b[0;34m]\u001b[0m\u001b[0;34m\u001b[0m\u001b[0;34m\u001b[0m\u001b[0m\n\u001b[1;32m      2\u001b[0m \u001b[0;31m#print([x lambda for x in li x[0]])\u001b[0m\u001b[0;34m\u001b[0m\u001b[0;34m\u001b[0m\u001b[0;34m\u001b[0m\u001b[0m\n\u001b[0;32m----> 3\u001b[0;31m \u001b[0mmin\u001b[0m\u001b[0;34m(\u001b[0m\u001b[0mli\u001b[0m\u001b[0;34m,\u001b[0m\u001b[0mkey\u001b[0m\u001b[0;34m=\u001b[0m\u001b[0;36m0\u001b[0m\u001b[0;34m)\u001b[0m\u001b[0;34m\u001b[0m\u001b[0;34m\u001b[0m\u001b[0m\n\u001b[0m",
            "\u001b[0;31mTypeError\u001b[0m: 'int' object is not callable"
          ]
        }
      ]
    },
    {
      "cell_type": "code",
      "metadata": {
        "id": "7-72oTVR-27C",
        "colab_type": "code",
        "colab": {},
        "outputId": "d176552e-1d00-4dd1-dac2-b3f8d1e9f943"
      },
      "source": [
        "min(li,key=lambda x : x[0])"
      ],
      "execution_count": 0,
      "outputs": [
        {
          "output_type": "execute_result",
          "data": {
            "text/plain": [
              "[-3, 'kadapalla']"
            ]
          },
          "metadata": {
            "tags": []
          },
          "execution_count": 55
        }
      ]
    },
    {
      "cell_type": "code",
      "metadata": {
        "id": "7igHKIGG-27N",
        "colab_type": "code",
        "colab": {}
      },
      "source": [
        ""
      ],
      "execution_count": 0,
      "outputs": []
    }
  ]
}